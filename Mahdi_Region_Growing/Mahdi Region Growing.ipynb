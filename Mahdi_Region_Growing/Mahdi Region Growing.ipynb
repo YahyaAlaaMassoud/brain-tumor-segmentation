{
 "cells": [
  {
   "cell_type": "markdown",
   "metadata": {},
   "source": [
    "Importing the libraries"
   ]
  },
  {
   "cell_type": "code",
   "execution_count": null,
   "metadata": {},
   "outputs": [],
   "source": [
    "%matplotlib notebook\n",
    "import cv2\n",
    "import os\n",
    "import pandas as pd\n",
    "import random\n",
    "import matplotlib.pyplot as plt\n",
    "import shutil\n",
    "import numpy as np\n",
    "from PIL import Image\n",
    "from skimage import io, color, segmentation, filters\n",
    "import matplotlib.image as mpimg"
   ]
  },
  {
   "cell_type": "markdown",
   "metadata": {},
   "source": [
    "Address of Raw Images Folders"
   ]
  },
  {
   "cell_type": "code",
   "execution_count": null,
   "metadata": {},
   "outputs": [],
   "source": [
    "# Define the Raw Image folder path\n",
    "raw_images_folder_path = r'/workspaces/BIOM5202_Project/Images/Raw Images'\n",
    "\n",
    "\n",
    "# List the contents of the Raw Images Folder: Should be Set1, Set2, ...\n",
    "raw_images_folder_contents = os.listdir(raw_images_folder_path)\n",
    "\n",
    "print(raw_images_folder_contents)"
   ]
  },
  {
   "cell_type": "markdown",
   "metadata": {},
   "source": [
    "Creating a Folder named \"Segmented Images\" Folder"
   ]
  },
  {
   "cell_type": "code",
   "execution_count": null,
   "metadata": {},
   "outputs": [],
   "source": [
    "# Creat a Folder Called \"Segmented Images\" \n",
    "# One Folder Coming Back to Creat the \"Segmented Images\" Folder\n",
    "# Split the path into its components\n",
    "raw_images_folder_path_components = raw_images_folder_path.split(os.path.sep)\n",
    "# Remove the last component (folder)\n",
    "Segmented_Images_folder_path = os.path.sep.join(raw_images_folder_path_components[:-1])\n",
    "# Adding the Folder name to the end of the adderess\n",
    "Segmented_Images_folder_path = Segmented_Images_folder_path + '/' + 'Segmented Images'\n",
    "# Checking to see if the \"Segmented Images\" folder exist\n",
    "if not os.path.exists(Segmented_Images_folder_path):\n",
    "    os.makedirs(Segmented_Images_folder_path)\n",
    "# Extracting the Content inside the \"Segmented Images\" folder\n",
    "Segmented_Images_folder_contents = os.listdir(Segmented_Images_folder_path)\n",
    "\n",
    "print(Segmented_Images_folder_contents)"
   ]
  },
  {
   "cell_type": "markdown",
   "metadata": {},
   "source": [
    "Rergion Growing Function"
   ]
  },
  {
   "cell_type": "code",
   "execution_count": null,
   "metadata": {},
   "outputs": [],
   "source": [
    "def region_growing_function_manual_seed(image_path):\n",
    "    # Load the image\n",
    "    image = Image.open(image_path)\n",
    "\n",
    "    # Convert the image to grayscale\n",
    "    gray_image = np.array(image.convert('L'))  # Convert to NumPy array\n",
    "\n",
    "    # Apply a simple threshold to create a binary mask\n",
    "    threshold_value = filters.threshold_otsu(gray_image)\n",
    "    binary_mask = gray_image > threshold_value\n",
    "\n",
    "    # Display the original image and binary mask\n",
    "    fig, ax = plt.subplots(1, 2, figsize=(10, 5))\n",
    "\n",
    "    ax[0].imshow(image)\n",
    "    ax[0].set_title('Original Image')\n",
    "\n",
    "    ax[1].imshow(binary_mask, cmap='gray')\n",
    "    ax[1].set_title('Binary Mask')\n",
    "    \n",
    "    # Draw the plots\n",
    "    plt.draw()\n",
    "    plt.pause(10)  # Adjust the pause duration if needed\n",
    "    \n",
    "    plt.close('all')\n",
    "\n",
    "    # # Allow the user to select a seed point by clicking on the image\n",
    "    # fig, ax = plt.subplots()\n",
    "    # ax.imshow(image)\n",
    "    # ax.set_title('Click on the seed point')\n",
    "\n",
    "    # # Get the seed point interactively from the user\n",
    "    # seed_points = plt.ginput(1, timeout=0)\n",
    "\n",
    "    # # Round the coordinates to integers\n",
    "    # seed_point = tuple(map(int, seed_points[0]))\n",
    "\n",
    "    # # Use region growing to segment the image\n",
    "    # region = segmentation.flood(gray_image, seed_point)\n",
    "\n",
    "    # # Display the original image, binary mask, and segmented region\n",
    "    # fig, ax = plt.subplots(1, 3, figsize=(10, 5))\n",
    "\n",
    "    # ax[0].imshow(image)\n",
    "    # ax[0].set_title('Original Image')\n",
    "\n",
    "    # ax[1].imshow(binary_mask, cmap='gray')\n",
    "    # ax[1].set_title('Binary Mask')\n",
    "\n",
    "    # ax[2].imshow(region, cmap='viridis')\n",
    "    # ax[2].set_title('Segmented Region')\n",
    "\n",
    "    # plt.show()\n",
    "\n"
   ]
  },
  {
   "cell_type": "markdown",
   "metadata": {},
   "source": [
    "1) Creating \"Set1\", \"Set2\", ... Folders in \"Segmented Images\" Folder\n",
    "\n",
    "2) Using Region Growing segmentation on \"Flair\" and \"T2\" images"
   ]
  },
  {
   "cell_type": "code",
   "execution_count": null,
   "metadata": {},
   "outputs": [],
   "source": [
    "#* 1) Creating \"Set1\", \"Set2\", ... Folders in \"Segmented Images\" Folder\n",
    "# check to see if the \"Set1\", \"Set2\", ... exist in \"Segmented Images\" folder\n",
    "for index_counter in range(len(raw_images_folder_contents)):\n",
    "    # Adress of each semented \"Setx\" folder \n",
    "    segmented_set_folder_path = Segmented_Images_folder_path + '/' + raw_images_folder_contents[index_counter]\n",
    "    # Check to see if the \"Setx\" exists\n",
    "    if not os.path.exists(segmented_set_folder_path):\n",
    "        os.makedirs(segmented_set_folder_path) \n",
    "    \n",
    "    # The number of cases in each source set\n",
    "    raw_images_set_folder_path = raw_images_folder_path + '/' + raw_images_folder_contents[index_counter]\n",
    "    raw_images_set_folder_contents = os.listdir(raw_images_set_folder_path)\n",
    "\n",
    "    # creating case folders and segment images\n",
    "    for case_counter in range(len(raw_images_set_folder_contents)):\n",
    "        segmented_case_folder_path = segmented_set_folder_path + '/' + raw_images_set_folder_contents[case_counter]\n",
    "\n",
    "        # Check to see if the case folder exists\n",
    "        if not os.path.exists(segmented_case_folder_path):\n",
    "            os.makedirs(segmented_case_folder_path) \n",
    "\n",
    "        # check to see if there is any segmentation in the case folder\n",
    "        segmented_case_folder_contents = os.listdir(segmented_case_folder_path)\n",
    "        if len(segmented_case_folder_contents) == 0:\n",
    "            raw_image_case_folder_path =  raw_images_set_folder_path + '/' + raw_images_set_folder_contents[case_counter]\n",
    "            raw_image_case_folder_contents = os.listdir(raw_image_case_folder_path)\n",
    "            for image_file_counter in raw_image_case_folder_contents:\n",
    "                if 'flair.png' in image_file_counter:\n",
    "                    raw_image_flair_image_path = raw_image_case_folder_path + '/' + image_file_counter\n",
    "                    region_growing_function_manual_seed(raw_image_flair_image_path)\n",
    "             \n",
    "\n"
   ]
  }
 ],
 "metadata": {
  "kernelspec": {
   "display_name": "Python 3",
   "language": "python",
   "name": "python3"
  },
  "language_info": {
   "codemirror_mode": {
    "name": "ipython",
    "version": 3
   },
   "file_extension": ".py",
   "mimetype": "text/x-python",
   "name": "python",
   "nbconvert_exporter": "python",
   "pygments_lexer": "ipython3",
   "version": "3.10.8"
  }
 },
 "nbformat": 4,
 "nbformat_minor": 2
}
