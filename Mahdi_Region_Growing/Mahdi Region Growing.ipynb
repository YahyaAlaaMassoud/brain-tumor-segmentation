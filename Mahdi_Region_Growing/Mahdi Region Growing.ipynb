{
 "cells": [
  {
   "cell_type": "markdown",
   "metadata": {},
   "source": [
    "Importing the libraries"
   ]
  },
  {
   "cell_type": "code",
   "execution_count": 1,
   "metadata": {},
   "outputs": [],
   "source": [
    "import os\n",
    "import pandas as pd\n",
    "import random\n",
    "#import nibabel as nib\n",
    "import matplotlib.pyplot as plt\n",
    "import shutil\n",
    "import numpy as np"
   ]
  },
  {
   "cell_type": "markdown",
   "metadata": {},
   "source": [
    "Address of Raw Images Folders"
   ]
  },
  {
   "cell_type": "code",
   "execution_count": 2,
   "metadata": {},
   "outputs": [
    {
     "name": "stdout",
     "output_type": "stream",
     "text": [
      "['Set1', 'Set2']\n"
     ]
    }
   ],
   "source": [
    "# Define the Raw Image folder path\n",
    "raw_images_folder_path = r'/workspaces/BIOM5202_Project/Images/Raw Images'\n",
    "\n",
    "\n",
    "# List the contents of the Raw Images Folder: Should be Set1, Set2, ...\n",
    "raw_images_folder_contents = os.listdir(raw_images_folder_path)\n",
    "\n",
    "print(raw_images_folder_contents)"
   ]
  },
  {
   "cell_type": "markdown",
   "metadata": {},
   "source": [
    "Creating a Folder named \"Segmented Images\" Folder"
   ]
  },
  {
   "cell_type": "code",
   "execution_count": 3,
   "metadata": {},
   "outputs": [
    {
     "name": "stdout",
     "output_type": "stream",
     "text": [
      "['Set1', 'Set2']\n"
     ]
    }
   ],
   "source": [
    "# Creat a Folder Called \"Segmented Images\" \n",
    "# One Folder Coming Back to Creat the \"Segmented Images\" Folder\n",
    "# Split the path into its components\n",
    "raw_images_folder_path_components = raw_images_folder_path.split(os.path.sep)\n",
    "# Remove the last component (folder)\n",
    "Segmented_Images_folder_path = os.path.sep.join(raw_images_folder_path_components[:-1])\n",
    "# Adding the Folder name to the end of the adderess\n",
    "Segmented_Images_folder_path = Segmented_Images_folder_path + '/' + 'Segmented Images'\n",
    "# Checking to see if the \"Segmented Images\" folder exist\n",
    "if not os.path.exists(Segmented_Images_folder_path):\n",
    "    os.makedirs(Segmented_Images_folder_path)\n",
    "# Extracting the Content inside the \"Segmented Images\" folder\n",
    "Segmented_Images_folder_contents = os.listdir(Segmented_Images_folder_path)\n",
    "\n",
    "print(Segmented_Images_folder_contents)"
   ]
  },
  {
   "cell_type": "markdown",
   "metadata": {},
   "source": [
    "1) Creating \"Set1\", \"Set2\", ... Folders in \"Segmented Images\" Folder\n",
    "\n",
    "2) Using Region Growing segmentation on \"Flair\" and \"T2\" images"
   ]
  },
  {
   "cell_type": "code",
   "execution_count": 4,
   "metadata": {},
   "outputs": [],
   "source": [
    "#* 1) Creating \"Set1\", \"Set2\", ... Folders in \"Segmented Images\" Folder\n",
    "# check to see if the \"Set1\", \"Set2\", ... exist in \"Segmented Images\" folder\n",
    "for index_counter in range(len(raw_images_folder_contents)):\n",
    "    # Adress of each semented \"Setx\" folder \n",
    "    segmented_set_folder_path = Segmented_Images_folder_path + '/' + raw_images_folder_contents[index_counter]\n",
    "    # Check to see if the \"Setx\" exists\n",
    "    if not os.path.exists(segmented_set_folder_path):\n",
    "        os.makedirs(segmented_set_folder_path) \n",
    "\n",
    "\n",
    "\n",
    "print(\"mahdi\")"
   ]
  }
 ],
 "metadata": {
  "kernelspec": {
   "display_name": "Python 3",
   "language": "python",
   "name": "python3"
  },
  "language_info": {
   "codemirror_mode": {
    "name": "ipython",
    "version": 3
   },
   "file_extension": ".py",
   "mimetype": "text/x-python",
   "name": "python",
   "nbconvert_exporter": "python",
   "pygments_lexer": "ipython3",
   "version": "3.10.8"
  }
 },
 "nbformat": 4,
 "nbformat_minor": 2
}
